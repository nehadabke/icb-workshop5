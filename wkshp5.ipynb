{
 "cells": [
  {
   "cell_type": "markdown",
   "metadata": {},
   "source": [
    "# ICB Workshop 5: Data Science x Design\n",
    "### Neha Dabke and Daniel Zhu"
   ]
  },
  {
   "cell_type": "markdown",
   "metadata": {},
   "source": [
    "## Code for Part 03 Data IRL"
   ]
  },
  {
   "cell_type": "code",
   "execution_count": null,
   "metadata": {},
   "outputs": [],
   "source": [
    "# import video to see var\n",
    "import numpy as np\n",
    "from IPython.display import Video"
   ]
  },
  {
   "cell_type": "code",
   "execution_count": null,
   "metadata": {},
   "outputs": [],
   "source": [
    "# variants\n",
    "variants = [\"var1.mov\", \"var2.mov\"]"
   ]
  },
  {
   "cell_type": "code",
   "execution_count": null,
   "metadata": {},
   "outputs": [],
   "source": [
    "# get placed in test group\n",
    "# change the ellipses to either variants[0] or variants[1] based on what you get assigned to!\n",
    "variant = ..."
   ]
  },
  {
   "cell_type": "code",
   "execution_count": null,
   "metadata": {},
   "outputs": [],
   "source": [
    "# see your variant!\n",
    "Video(variant)"
   ]
  },
  {
   "cell_type": "markdown",
   "metadata": {},
   "source": [
    "#### Don't think about price: would you buy this item?  \n",
    "#### Submit your answer here: https://tinyurl.com/icb-abtest "
   ]
  },
  {
   "cell_type": "code",
   "execution_count": null,
   "metadata": {},
   "outputs": [],
   "source": [
    "v1 = []\n",
    "v2 = []"
   ]
  },
  {
   "cell_type": "code",
   "execution_count": null,
   "metadata": {},
   "outputs": [],
   "source": [
    "# calculate proportions of people who would buy the item for each variant"
   ]
  },
  {
   "cell_type": "markdown",
   "metadata": {},
   "source": [
    "## Code for Part 04: Theory and Applications"
   ]
  },
  {
   "cell_type": "code",
   "execution_count": null,
   "metadata": {},
   "outputs": [],
   "source": [
    "from statsmodels.stats.power import zt_ind_solve_power\n",
    "from statsmodels.stats.api import proportion_effectsize"
   ]
  },
  {
   "cell_type": "code",
   "execution_count": null,
   "metadata": {},
   "outputs": [],
   "source": [
    "zt_ind_solve_power(\n",
    "    effect_size = proportion_effectsize(0.1, 0.1*1.2),\n",
    "    alpha = 0.05,\n",
    "    power = 0.8\n",
    ")"
   ]
  },
  {
   "cell_type": "code",
   "execution_count": null,
   "metadata": {},
   "outputs": [],
   "source": [
    "zt_ind_solve_power(\n",
    "    effect_size = proportion_effectsize(0.2*0.1, 0.25*0.1), \n",
    "    alpha = 0.05, \n",
    "    power = 0.8\n",
    ") "
   ]
  },
  {
   "cell_type": "code",
   "execution_count": null,
   "metadata": {},
   "outputs": [],
   "source": [
    "zt_ind_solve_power(\n",
    "    effect_size = proportion_effectsize(0.2, 0.25), \n",
    "    alpha = 0.05, \n",
    "    power = 0.8\n",
    ")"
   ]
  },
  {
   "cell_type": "code",
   "execution_count": null,
   "metadata": {},
   "outputs": [],
   "source": [
    "zt_ind_solve_power(\n",
    "    effect_size = proportion_effectsize(0.4, 0.5), \n",
    "    alpha = 0.05, \n",
    "    power = 0.8\n",
    ") "
   ]
  },
  {
   "cell_type": "code",
   "execution_count": null,
   "metadata": {},
   "outputs": [],
   "source": [
    "from statsmodels.stats.proportion import proportions_ztest"
   ]
  },
  {
   "cell_type": "code",
   "execution_count": null,
   "metadata": {},
   "outputs": [],
   "source": [
    "z_score, p_value = proportions_ztest(\n",
    "    count = [290, 240], \n",
    "    nobs = [1190,1200], \n",
    "    value = 0, \n",
    "    alternative = \"two-sided\"\n",
    ") \n",
    "print(\"Z-score: {}, P-value: {}\".format(z_score, p_value))"
   ]
  }
 ],
 "metadata": {
  "kernelspec": {
   "display_name": "Python 3",
   "language": "python",
   "name": "python3"
  },
  "language_info": {
   "codemirror_mode": {
    "name": "ipython",
    "version": 3
   },
   "file_extension": ".py",
   "mimetype": "text/x-python",
   "name": "python",
   "nbconvert_exporter": "python",
   "pygments_lexer": "ipython3",
   "version": "3.7.3"
  }
 },
 "nbformat": 4,
 "nbformat_minor": 4
}
